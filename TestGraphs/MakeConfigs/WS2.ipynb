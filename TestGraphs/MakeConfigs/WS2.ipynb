{
 "cells": [
  {
   "cell_type": "markdown",
   "id": "a29f32cf",
   "metadata": {},
   "source": [
    "FieldNBalance is a program that estimates the N balance and provides N fertilizer recommendations for cultivated crops.\n",
    "Author: Hamish Brown.\n",
    "Copyright (c) 2024 The New Zealand Institute for Plant and Food Research Limited"
   ]
  },
  {
   "cell_type": "code",
   "execution_count": 13,
   "id": "5d0cd442-4d73-4aaa-90f0-63dd7945be5f",
   "metadata": {
    "tags": []
   },
   "outputs": [],
   "source": [
    "import os\n",
    "import pandas as pd"
   ]
  },
  {
   "cell_type": "code",
   "execution_count": 14,
   "id": "9f1dfee6-ad9f-4a0e-8324-31498e929c91",
   "metadata": {
    "tags": []
   },
   "outputs": [],
   "source": [
    "Sites = {\n",
    " 1: 'Wilcox',\n",
    " 2: 'Jivans',\n",
    " 3: 'Bhana',\n",
    " 4: 'Balles',\n",
    " 5: 'Pescini',\n",
    " 6: 'Woodhaven',\n",
    " 7: 'Brownrigg',\n",
    " 8: 'Lovett',\n",
    " 9: 'Oakley'\n",
    "}"
   ]
  },
  {
   "cell_type": "code",
   "execution_count": 15,
   "id": "83ad032a-d4db-4bb3-b289-c9c5679888dc",
   "metadata": {
    "tags": []
   },
   "outputs": [],
   "source": [
    "try: \n",
    "    if os.environ[\"GITHUB_WORKSPACE\"] != None:\n",
    "        root = os.environ[\"GITHUB_WORKSPACE\"]\n",
    "        path = os.path.join(root,\"TestComponents\", \"TestSets\", \"WS2\")\n",
    "except:\n",
    "    rootfrags = os.path.abspath('WS2.py').split(\"\\\\\")\n",
    "    root = \"\"\n",
    "    for d in rootfrags:\n",
    "        if d == \"FieldNBalance\":\n",
    "            break\n",
    "        else:\n",
    "            root += d + \"\\\\\"\n",
    "    path = os.path.join(root,\"FieldNBalance\",\"TestComponents\", \"TestSets\", \"WS2\")"
   ]
  },
  {
   "cell_type": "code",
   "execution_count": 16,
   "id": "cb5c353f",
   "metadata": {},
   "outputs": [],
   "source": [
    "Configs = pd.read_excel(os.path.join(path, \"FieldConfigs.xlsx\"),sheet_name=Sites[1],nrows=45,usecols=lambda x: 'Unnamed' not in x,keep_default_na=False)\n",
    "Configs.set_index('Name',inplace=True)\n",
    "for s in range(2,10):\n",
    "    sites = pd.read_excel(os.path.join(path, \"FieldConfigs.xlsx\"),sheet_name=Sites[s],nrows=45,usecols=lambda x: 'Unnamed' not in x,keep_default_na=False)\n",
    "    sites.set_index('Name',inplace=True)\n",
    "    Configs = pd.concat([Configs,sites],axis=1)"
   ]
  },
  {
   "cell_type": "code",
   "execution_count": 17,
   "id": "f1eb965a-7faa-4228-8052-754213d42587",
   "metadata": {
    "tags": []
   },
   "outputs": [],
   "source": [
    "CSConfigs = Configs.transpose()\n",
    "CSConfigs.to_csv(os.path.join(path, \"FieldConfigs.csv\"),header=True)"
   ]
  },
  {
   "cell_type": "code",
   "execution_count": 18,
   "id": "acea3a05-e847-42d0-afa6-82245a56da6a",
   "metadata": {
    "tags": []
   },
   "outputs": [],
   "source": [
    "Configs.to_pickle(os.path.join(path, \"FieldConfigs.pkl\"))"
   ]
  }
 ],
 "metadata": {
  "jupytext": {
   "formats": "ipynb,py:light"
  },
  "kernelspec": {
   "display_name": "Python 3 (ipykernel)",
   "language": "python",
   "name": "python3"
  },
  "language_info": {
   "codemirror_mode": {
    "name": "ipython",
    "version": 3
   },
   "file_extension": ".py",
   "mimetype": "text/x-python",
   "name": "python",
   "nbconvert_exporter": "python",
   "pygments_lexer": "ipython3",
   "version": "3.10.13"
  }
 },
 "nbformat": 4,
 "nbformat_minor": 5
}
