{
 "cells": [
  {
   "cell_type": "code",
   "execution_count": 10,
   "id": "5d0cd442-4d73-4aaa-90f0-63dd7945be5f",
   "metadata": {
    "tags": []
   },
   "outputs": [],
   "source": [
    "import os.path as os\n",
    "import pandas as pd"
   ]
  },
  {
   "cell_type": "code",
   "execution_count": 11,
   "id": "8e4e6961-87ba-4428-913c-cc1f4559f206",
   "metadata": {
    "tags": []
   },
   "outputs": [],
   "source": [
    "Sites = {\n",
    " 1: 'Wilcox',\n",
    " 2: 'Jivans',\n",
    " 3: 'Bhana',\n",
    " 4: 'Balles',\n",
    " 5: 'Pescini',\n",
    " 6: 'Woodhaven',\n",
    " 7: 'Brownrigg',\n",
    " 8: 'Lovett',\n",
    " 9: 'Oakley'\n",
    "}"
   ]
  },
  {
   "cell_type": "code",
   "execution_count": 12,
   "id": "8f2adae0-3776-4960-a64d-b7df217f0e20",
   "metadata": {
    "tags": []
   },
   "outputs": [],
   "source": [
    "root = os.split(os.abspath('WS2.ipynb'))[0][:-23]\n",
    "path = os.join(root,\"TestComponents\", \"TestSets\", \"WS2\")\n",
    "#path = join(\"TestComponents\", \"TestSets\", \"WS2\")"
   ]
  },
  {
   "cell_type": "code",
   "execution_count": 13,
   "id": "9f1dfee6-ad9f-4a0e-8324-31498e929c91",
   "metadata": {
    "tags": []
   },
   "outputs": [],
   "source": [
    "Configs = pd.read_excel(os.join(path, \"FieldConfigs.xlsx\"),sheet_name=Sites[1],nrows=48,usecols=lambda x: 'Unnamed' not in x,keep_default_na=False)\n",
    "Configs.set_index('Name',inplace=True)\n",
    "for s in range(2,10):\n",
    "    sites = pd.read_excel(os.join(path, \"FieldConfigs.xlsx\"),sheet_name=Sites[s],nrows=48,usecols=lambda x: 'Unnamed' not in x,keep_default_na=False)\n",
    "    sites.set_index('Name',inplace=True)\n",
    "    Configs = pd.concat([Configs,sites],axis=1)"
   ]
  },
  {
   "cell_type": "code",
   "execution_count": 14,
   "id": "f1eb965a-7faa-4228-8052-754213d42587",
   "metadata": {
    "tags": []
   },
   "outputs": [],
   "source": [
    "CSConfigs = Configs.transpose()\n",
    "CSConfigs.to_csv(os.join(path, \"FieldConfigs.csv\"),header=True)"
   ]
  },
  {
   "cell_type": "code",
   "execution_count": 15,
   "id": "acea3a05-e847-42d0-afa6-82245a56da6a",
   "metadata": {},
   "outputs": [],
   "source": [
    "Configs.to_pickle(os.join(path, \"FieldConfigs.pkl\"))"
   ]
  }
 ],
 "metadata": {
  "jupytext": {
   "formats": "ipynb,py:light"
  },
  "kernelspec": {
   "display_name": "Python 3 (ipykernel)",
   "language": "python",
   "name": "python3"
  },
  "language_info": {
   "codemirror_mode": {
    "name": "ipython",
    "version": 3
   },
   "file_extension": ".py",
   "mimetype": "text/x-python",
   "name": "python",
   "nbconvert_exporter": "python",
   "pygments_lexer": "ipython3",
   "version": "3.10.13"
  }
 },
 "nbformat": 4,
 "nbformat_minor": 5
}
