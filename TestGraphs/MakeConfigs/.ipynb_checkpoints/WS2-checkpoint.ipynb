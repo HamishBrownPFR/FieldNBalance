{
 "cells": [
  {
   "cell_type": "code",
   "execution_count": 1,
   "id": "5d0cd442-4d73-4aaa-90f0-63dd7945be5f",
   "metadata": {
    "tags": []
   },
   "outputs": [],
   "source": [
    "import os\n",
    "import pandas as pd"
   ]
  },
  {
   "cell_type": "code",
   "execution_count": 2,
   "id": "9f1dfee6-ad9f-4a0e-8324-31498e929c91",
   "metadata": {
    "tags": []
   },
   "outputs": [],
   "source": [
    "Sites = {\n",
    " 1: 'Wilcox',\n",
    " 2: 'Jivans',\n",
    " 3: 'Bhana',\n",
    " 4: 'Balles',\n",
    " 5: 'Pescini',\n",
    " 6: 'Woodhaven',\n",
    " 7: 'Brownrigg',\n",
    " 8: 'Lovett',\n",
    " 9: 'Oakley'\n",
    "}"
   ]
  },
  {
   "cell_type": "code",
   "execution_count": 7,
   "id": "942bcacc-d95a-4672-9572-315dd787e0aa",
   "metadata": {
    "tags": []
   },
   "outputs": [
    {
     "name": "stdout",
     "output_type": "stream",
     "text": [
      "environ({'ALLUSERSPROFILE': 'C:\\\\ProgramData', 'APPDATA': 'C:\\\\Users\\\\Cflhxb\\\\AppData\\\\Roaming', 'COMMONPROGRAMFILES': 'C:\\\\Program Files\\\\Common Files', 'COMMONPROGRAMFILES(X86)': 'C:\\\\Program Files (x86)\\\\Common Files', 'COMMONPROGRAMW6432': 'C:\\\\Program Files\\\\Common Files', 'COMPUTERNAME': 'LIN-L-483150', 'COMSPEC': 'C:\\\\WINDOWS\\\\system32\\\\cmd.exe', 'CONDA_DEFAULT_ENV': 'base', 'CONDA_EXE': 'C:\\\\Users\\\\Cflhxb\\\\AppData\\\\Local\\\\anaconda3\\\\Scripts\\\\conda.exe', 'CONDA_PROMPT_MODIFIER': '(base) ', 'CONDA_PYTHON_EXE': 'C:\\\\Users\\\\Cflhxb\\\\AppData\\\\Local\\\\anaconda3\\\\python.exe', 'CONDA_SHLVL': '1', 'DRIVERDATA': 'C:\\\\Windows\\\\System32\\\\Drivers\\\\DriverData', 'FPS_BROWSER_APP_PROFILE_STRING': 'Internet Explorer', 'FPS_BROWSER_USER_PROFILE_STRING': 'Default', 'HOME': 'c:\\\\Users\\\\Cflhxb', 'HOMEDRIVE': 'H:', 'HOMEPATH': '\\\\', 'HOMESHARE': '\\\\\\\\LIN-FILE\\\\HOME$\\\\Cflhxb', 'LOCALAPPDATA': 'C:\\\\Users\\\\Cflhxb\\\\AppData\\\\Local', 'LOGONSERVER': '\\\\\\\\LINADC51', 'NUMBER_OF_PROCESSORS': '8', 'ONEDRIVE': 'C:\\\\Users\\\\Cflhxb\\\\OneDrive - Plant and Food Research', 'ONEDRIVECOMMERCIAL': 'C:\\\\Users\\\\Cflhxb\\\\OneDrive - Plant and Food Research', 'ONEDRIVECONSUMER': 'C:\\\\Users\\\\Cflhxb\\\\OneDrive', 'OS': 'Windows_NT', 'PATH': 'C:\\\\Users\\\\Cflhxb\\\\AppData\\\\Local\\\\anaconda3;C:\\\\Users\\\\Cflhxb\\\\AppData\\\\Local\\\\anaconda3\\\\Library\\\\mingw-w64\\\\bin;C:\\\\Users\\\\Cflhxb\\\\AppData\\\\Local\\\\anaconda3\\\\Library\\\\usr\\\\bin;C:\\\\Users\\\\Cflhxb\\\\AppData\\\\Local\\\\anaconda3\\\\Library\\\\bin;C:\\\\Users\\\\Cflhxb\\\\AppData\\\\Local\\\\anaconda3\\\\Scripts;C:\\\\Users\\\\Cflhxb\\\\AppData\\\\Local\\\\anaconda3\\\\bin;C:\\\\Users\\\\Cflhxb\\\\AppData\\\\Local\\\\anaconda3\\\\condabin;C:\\\\Users\\\\Cflhxb\\\\AppData\\\\Local\\\\anaconda3;C:\\\\Users\\\\Cflhxb\\\\AppData\\\\Local\\\\anaconda3\\\\Library\\\\mingw-w64\\\\bin;C:\\\\Users\\\\Cflhxb\\\\AppData\\\\Local\\\\anaconda3\\\\Library\\\\usr\\\\bin;C:\\\\Users\\\\Cflhxb\\\\AppData\\\\Local\\\\anaconda3\\\\Library\\\\bin;C:\\\\Users\\\\Cflhxb\\\\AppData\\\\Local\\\\anaconda3\\\\Scripts;C:\\\\WINDOWS\\\\system32;C:\\\\WINDOWS;C:\\\\WINDOWS\\\\System32\\\\Wbem;C:\\\\WINDOWS\\\\System32\\\\WindowsPowerShell\\\\v1.0;C:\\\\WINDOWS\\\\System32\\\\OpenSSH;C:\\\\Program Files\\\\Microsoft SQL Server\\\\150\\\\Tools\\\\Binn;C:\\\\Program Files\\\\Microsoft SQL Server\\\\Client SDK\\\\ODBC\\\\170\\\\Tools\\\\Binn;C:\\\\Program Files\\\\dotnet;C:\\\\Program Files\\\\Git\\\\cmd;C:\\\\Users\\\\Cflhxb\\\\AppData\\\\Local\\\\Microsoft\\\\WindowsApps;C:\\\\Users\\\\Cflhxb\\\\.dotnet\\\\tools;C:\\\\Program Files (x86)\\\\Microsoft Visual Studio\\\\Shared\\\\Python39_64;.', 'PATHEXT': '.COM;.EXE;.BAT;.CMD;.VBS;.VBE;.JS;.JSE;.WSF;.WSH;.MSC', 'PROCESSOR_ARCHITECTURE': 'AMD64', 'PROCESSOR_IDENTIFIER': 'Intel64 Family 6 Model 140 Stepping 1, GenuineIntel', 'PROCESSOR_LEVEL': '6', 'PROCESSOR_REVISION': '8c01', 'PROGRAMDATA': 'C:\\\\ProgramData', 'PROGRAMFILES': 'C:\\\\Program Files', 'PROGRAMFILES(X86)': 'C:\\\\Program Files (x86)', 'PROGRAMW6432': 'C:\\\\Program Files', 'PROMPT': '(base) $P$G', 'PSMODULEPATH': 'C:\\\\Program Files\\\\WindowsPowerShell\\\\Modules;C:\\\\WINDOWS\\\\system32\\\\WindowsPowerShell\\\\v1.0\\\\Modules', 'PUBLIC': 'C:\\\\Users\\\\Public', 'SESSIONNAME': 'Console', 'SSL_CERT_FILE': 'C:\\\\Users\\\\Cflhxb\\\\AppData\\\\Local\\\\anaconda3\\\\Library\\\\ssl\\\\cacert.pem', 'SYSTEMDRIVE': 'C:', 'SYSTEMROOT': 'C:\\\\WINDOWS', 'TEMP': 'C:\\\\Users\\\\Cflhxb\\\\AppData\\\\Local\\\\Temp', 'TMP': 'C:\\\\Users\\\\Cflhxb\\\\AppData\\\\Local\\\\Temp', 'UATDATA': 'C:\\\\WINDOWS\\\\CCM\\\\UATData\\\\D9F8C395-CAB8-491d-B8AC-179A1FE1BE77', 'USERDNSDOMAIN': 'PFR.CO.NZ', 'USERDOMAIN': 'PFR', 'USERDOMAIN_ROAMINGPROFILE': 'PFR', 'USERNAME': 'cflhxb', 'USERPROFILE': 'C:\\\\Users\\\\Cflhxb', 'WINDIR': 'C:\\\\WINDOWS', 'ZES_ENABLE_SYSMAN': '1', 'CONDA_PREFIX': 'C:\\\\Users\\\\Cflhxb\\\\AppData\\\\Local\\\\anaconda3', 'CONDA_ROOT': 'C:\\\\Users\\\\Cflhxb\\\\AppData\\\\Local\\\\anaconda3', '__CONDA_OPENSLL_CERT_FILE_SET': '\"1\"', 'PYDEVD_USE_FRAME_EVAL': 'NO', 'JPY_SESSION_NAME': 'GitHubRepos/FieldNBalance/TestGraphs/MakeConfigs/39190b94-dfaf-4f6a-b030-a1a2dd1b064d', 'JPY_INTERRUPT_EVENT': '5932', 'IPY_INTERRUPT_EVENT': '5932', 'JPY_PARENT_PID': '3264', 'TERM': 'xterm-color', 'CLICOLOR': '1', 'FORCE_COLOR': '1', 'CLICOLOR_FORCE': '1', 'PAGER': 'cat', 'GIT_PAGER': 'cat', 'MPLBACKEND': 'module://matplotlib_inline.backend_inline'})\n"
     ]
    }
   ],
   "source": [
    "print(os.environ)"
   ]
  },
  {
   "cell_type": "code",
   "execution_count": 3,
   "id": "83ad032a-d4db-4bb3-b289-c9c5679888dc",
   "metadata": {
    "tags": []
   },
   "outputs": [
    {
     "ename": "KeyError",
     "evalue": "'GITHUB_WORKSPACE'",
     "output_type": "error",
     "traceback": [
      "\u001b[1;31m---------------------------------------------------------------------------\u001b[0m",
      "\u001b[1;31mKeyError\u001b[0m                                  Traceback (most recent call last)",
      "Cell \u001b[1;32mIn[3], line 1\u001b[0m\n\u001b[1;32m----> 1\u001b[0m \u001b[38;5;28;01mif\u001b[39;00m \u001b[43mos\u001b[49m\u001b[38;5;241;43m.\u001b[39;49m\u001b[43menviron\u001b[49m\u001b[43m[\u001b[49m\u001b[38;5;124;43m\"\u001b[39;49m\u001b[38;5;124;43mGITHUB_WORKSPACE\u001b[39;49m\u001b[38;5;124;43m\"\u001b[39;49m\u001b[43m]\u001b[49m \u001b[38;5;241m!=\u001b[39m \u001b[38;5;28;01mNone\u001b[39;00m:\n\u001b[0;32m      2\u001b[0m     root \u001b[38;5;241m=\u001b[39m os\u001b[38;5;241m.\u001b[39menviron[\u001b[38;5;124m\"\u001b[39m\u001b[38;5;124mGITHUB_WORKSPACE\u001b[39m\u001b[38;5;124m\"\u001b[39m]\n\u001b[0;32m      3\u001b[0m     inPath \u001b[38;5;241m=\u001b[39m os\u001b[38;5;241m.\u001b[39mpath\u001b[38;5;241m.\u001b[39mjoin(root, \u001b[38;5;124m\"\u001b[39m\u001b[38;5;124mTestComponents\u001b[39m\u001b[38;5;124m\"\u001b[39m, \u001b[38;5;124m\"\u001b[39m\u001b[38;5;124mTestSets\u001b[39m\u001b[38;5;124m\"\u001b[39m, \u001b[38;5;124m\"\u001b[39m\u001b[38;5;124mMoisture\u001b[39m\u001b[38;5;124m\"\u001b[39m, \u001b[38;5;124m\"\u001b[39m\u001b[38;5;124mOutputs\u001b[39m\u001b[38;5;124m\"\u001b[39m)\n",
      "File \u001b[1;32m~\\AppData\\Local\\anaconda3\\lib\\os.py:680\u001b[0m, in \u001b[0;36m_Environ.__getitem__\u001b[1;34m(self, key)\u001b[0m\n\u001b[0;32m    677\u001b[0m     value \u001b[38;5;241m=\u001b[39m \u001b[38;5;28mself\u001b[39m\u001b[38;5;241m.\u001b[39m_data[\u001b[38;5;28mself\u001b[39m\u001b[38;5;241m.\u001b[39mencodekey(key)]\n\u001b[0;32m    678\u001b[0m \u001b[38;5;28;01mexcept\u001b[39;00m \u001b[38;5;167;01mKeyError\u001b[39;00m:\n\u001b[0;32m    679\u001b[0m     \u001b[38;5;66;03m# raise KeyError with the original key value\u001b[39;00m\n\u001b[1;32m--> 680\u001b[0m     \u001b[38;5;28;01mraise\u001b[39;00m \u001b[38;5;167;01mKeyError\u001b[39;00m(key) \u001b[38;5;28;01mfrom\u001b[39;00m \u001b[38;5;28;01mNone\u001b[39;00m\n\u001b[0;32m    681\u001b[0m \u001b[38;5;28;01mreturn\u001b[39;00m \u001b[38;5;28mself\u001b[39m\u001b[38;5;241m.\u001b[39mdecodevalue(value)\n",
      "\u001b[1;31mKeyError\u001b[0m: 'GITHUB_WORKSPACE'"
     ]
    }
   ],
   "source": [
    "if os.environ[\"GITHUB_WORKSPACE\"] != None:\n",
    "    root = os.environ[\"GITHUB_WORKSPACE\"]\n",
    "    inPath = os.path.join(root, \"TestComponents\", \"TestSets\", \"Moisture\", \"Outputs\")\n",
    "    outPath = os.path.join(root, \"TestGraphs\", \"Outputs\")  \n",
    "else:\n",
    "    rootfrags = os.path.abspath('WS2.ipynb').split(\"\\\\\")\n",
    "    root = \"\"\n",
    "    for d in rootfrags:\n",
    "        if d == \"FieldNBalance\":\n",
    "            break\n",
    "        else:\n",
    "            root += d + \"\\\\\"\n",
    "    path = os.path.join(root,\"FieldNBalance\",\"TestComponents\", \"TestSets\", \"WS2\")"
   ]
  },
  {
   "cell_type": "code",
   "execution_count": null,
   "id": "cb5c353f",
   "metadata": {},
   "outputs": [],
   "source": [
    "Configs = pd.read_excel(os.path.join(path, \"FieldConfigs.xlsx\"),sheet_name=Sites[1],nrows=45,usecols=lambda x: 'Unnamed' not in x,keep_default_na=False)\n",
    "Configs.set_index('Name',inplace=True)\n",
    "for s in range(2,10):\n",
    "    sites = pd.read_excel(os.path.join(path, \"FieldConfigs.xlsx\"),sheet_name=Sites[s],nrows=45,usecols=lambda x: 'Unnamed' not in x,keep_default_na=False)\n",
    "    sites.set_index('Name',inplace=True)\n",
    "    Configs = pd.concat([Configs,sites],axis=1)"
   ]
  },
  {
   "cell_type": "code",
   "execution_count": null,
   "id": "f1eb965a-7faa-4228-8052-754213d42587",
   "metadata": {
    "tags": []
   },
   "outputs": [],
   "source": [
    "CSConfigs = Configs.transpose()\n",
    "CSConfigs.to_csv(os.path.join(path, \"FieldConfigs.csv\"),header=True)"
   ]
  },
  {
   "cell_type": "code",
   "execution_count": null,
   "id": "acea3a05-e847-42d0-afa6-82245a56da6a",
   "metadata": {
    "tags": []
   },
   "outputs": [],
   "source": [
    "Configs.to_pickle(os.path.join(path, \"FieldConfigs.pkl\"))"
   ]
  }
 ],
 "metadata": {
  "jupytext": {
   "formats": "ipynb,py:light"
  },
  "kernelspec": {
   "display_name": "Python 3 (ipykernel)",
   "language": "python",
   "name": "python3"
  },
  "language_info": {
   "codemirror_mode": {
    "name": "ipython",
    "version": 3
   },
   "file_extension": ".py",
   "mimetype": "text/x-python",
   "name": "python",
   "nbconvert_exporter": "python",
   "pygments_lexer": "ipython3",
   "version": "3.10.13"
  }
 },
 "nbformat": 4,
 "nbformat_minor": 5
}
