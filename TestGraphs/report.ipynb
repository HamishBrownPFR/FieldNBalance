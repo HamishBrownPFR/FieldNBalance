{
 "cells": [
  {
   "cell_type": "code",
   "execution_count": 14,
   "id": "c6317285-bf98-489f-a858-44925c83f9c3",
   "metadata": {
    "tags": []
   },
   "outputs": [
    {
     "name": "stdout",
     "output_type": "stream",
     "text": [
      "report Started\n"
     ]
    },
    {
     "data": {
      "text/plain": [
       "<aspose.words.saving.SaveOutputParameters object at 0x000001DF6232B5F0>"
      ]
     },
     "execution_count": 14,
     "metadata": {},
     "output_type": "execute_result"
    }
   ],
   "source": [
    "import os\n",
    "import aspose.words as aw\n",
    "import os.path as osp\n",
    "from glob import glob\n",
    "from pathlib import Path\n",
    "\n",
    "print(\"report Started\")\n",
    "try: \n",
    "    if os.environ[\"GITHUB_WORKSPACE\"] != None:\n",
    "        root = os.environ[\"GITHUB_WORKSPACE\"]\n",
    "        inPath = os.path.join(root, \"TestGraphs\", \"Outputs\")\n",
    "\n",
    "except: \n",
    "    rootfrags = os.path.abspath('WS2.py').split(\"\\\\\")\n",
    "    root = \"\"\n",
    "    for d in rootfrags:\n",
    "        if d == \"FieldNBalance\":\n",
    "            break\n",
    "        else:\n",
    "            root += d + \"\\\\\"\n",
    "    inPath = os.path.join(root,\"FieldNBalance\",\"TestGraphs\", \"Outputs\")   \n",
    "    \n",
    "\n",
    "if not osp.isdir(inPath):\n",
    "    raise FileNotFoundError(f\"Directory does not exist: {inPath}\")\n",
    "\n",
    "imgs = glob(osp.join(inPath, \"*.png\"))\n",
    "if len(imgs) == 0:\n",
    "    raise FileNotFoundError(f\"No images found in directory: {inPath}\")\n",
    "\n",
    "doc = aw.Document()\n",
    "builder = aw.DocumentBuilder(doc)\n",
    "\n",
    "for img in imgs:\n",
    "    builder.insert_image(img)\n",
    "\n",
    "outdir = \"html\"\n",
    "Path(outdir).mkdir(parents=True, exist_ok=True) \n",
    "doc.save(osp.join(outdir, \"index.html\"))\n"
   ]
  }
 ],
 "metadata": {
  "jupytext": {
   "formats": "ipynb,py:light"
  },
  "kernelspec": {
   "display_name": "Python 3 (ipykernel)",
   "language": "python",
   "name": "python3"
  },
  "language_info": {
   "codemirror_mode": {
    "name": "ipython",
    "version": 3
   },
   "file_extension": ".py",
   "mimetype": "text/x-python",
   "name": "python",
   "nbconvert_exporter": "python",
   "pygments_lexer": "ipython3",
   "version": "3.10.13"
  }
 },
 "nbformat": 4,
 "nbformat_minor": 5
}
